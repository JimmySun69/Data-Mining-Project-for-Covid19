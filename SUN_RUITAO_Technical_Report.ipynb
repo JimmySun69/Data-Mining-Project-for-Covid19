{
 "cells": [
  {
   "cell_type": "markdown",
   "metadata": {},
   "source": [
    "# Covid19 Data Mining Technical Report\n"
   ]
  },
  {
   "cell_type": "markdown",
   "metadata": {},
   "source": [
    "### Total confirm number throughout the world\n",
    "\n",
    "'Total confirm number throughout the world' figure represents the total confirm number all over the world from January 22th until November 29th. To draw the figure, Two data sets need to be generated, the first one is the sum value of all countries in each day, and the second one is date. Import plotly.graph_objects as go and apply go.Scatter to draw a line graph. Data in x-axis is selected from date dataset and data in y-axis is selected from dataset confirm_sum. As for mode, we select ‘lines+markers’, which enables drawing the lines by connecting those markers."
   ]
  },
  {
   "cell_type": "raw",
   "metadata": {},
   "source": [
    "cols = [i for i in confirm.columns if i not in ['province', 'country','Lat','Long']]\n",
    "confirm_date = confirm[cols]\n",
    "confirm_sum=confirm_date.apply(lambda x:sum(x))\n",
    "x_data=np.array(list(confirm_date.columns))\n",
    "y_data=confirm_sum\n",
    "fig=go.Figure()\n",
    "fig.add_trace(go.Scatter(x=x_data,y=y_data, mode='lines+markers',\n",
    "                            name=\"Confirm\",\n",
    "                            line= dict(color=\"blue\", width=2),\n",
    "                            text = \"Total  confirm:\"+ str(y_data[-1])\n",
    "                            ))\n",
    "fig.show()"
   ]
  },
  {
   "cell_type": "markdown",
   "metadata": {},
   "source": [
    "### Ten largest confirm country throughout the world\n",
    "\n",
    "'Ten largest confirm country throughout the world' figure uses plotly.express to draw the picture. The graph shows the top ten countries with confirmed cases on December 26."
   ]
  },
  {
   "cell_type": "raw",
   "metadata": {},
   "source": [
    "fig=px.scatter(largest_ten_confirm,x=\"country\",y=\"12/6/20\",size=\"12/6/20\",color=\"country\",hover_name=\"country\",size_max=100)\n",
    "fig.show()"
   ]
  },
  {
   "cell_type": "markdown",
   "metadata": {},
   "source": [
    "### Total confirm for each country throughout the world\n",
    "\n",
    "'Total confirm for each country throughout the world' figure represents the total confirm number since January 22th for each country. The process is quite similar to that in the first graph, but selecting the sum of each country as the y-axis value. Besides, ‘interact’ is added  for interaction. User can enter a country for further check, the default value inside the input box is ‘ World’, thus the total confirm number is set to zero initially."
   ]
  },
  {
   "cell_type": "raw",
   "metadata": {},
   "source": [
    " fig.add_trace(go.Scatter(x=x_data,y=y_data, mode='lines+markers',\n",
    "                            name=labels[i],\n",
    "                            line= dict(color=colors[i], width=line_size[i]),\n",
    "                            connectgaps=True,\n",
    "                                      text = country +\"Total\"+ str(labels[i])+ \":\"+ str(y_data[-1])\n",
    "                            ))\n",
    "    fig.show()\n",
    "interact(plot_for_country,country=\"World\")"
   ]
  },
  {
   "cell_type": "markdown",
   "metadata": {},
   "source": [
    "###  Total confirmed cases world map on 2020 December 6\n",
    "\n",
    "This map shows the number of total confirmed cases in each Country/Provance on 6 December 2020 in terms of geography. \n",
    "\n",
    "Since some countries in the data source are not marked with provinces, \"Null\" is used to replace the vacant ones in the data cleaning process for the normal display of the map. In the data cleaning, direct extraction of information on December 6 confirmed cases in countries around the world is the final result."
   ]
  },
  {
   "cell_type": "raw",
   "metadata": {},
   "source": [
    "data_confirm_global_use1 = pd.read_csv(\"CovidDataConfirmGlobal.csv\", usecols = [0,1,2,3,323])\n",
    "\n",
    "cols = list(data_confirm_global_use1)\n",
    "cols.insert(0,cols.pop(cols.index('Country/Region')))\n",
    "data_confirm_global_use1 = data_confirm_global_use1.loc[:,cols]\n",
    "\n",
    "col_name = ['Country', 'Province','Lat','Long','cases']\n",
    "\n",
    "data_confirm_global_use1.columns =col_name\n",
    "\n",
    "data_confirm_global_use1['Province'] = data_confirm_global_use1['Province'].fillna('Null')"
   ]
  },
  {
   "cell_type": "markdown",
   "metadata": {},
   "source": [
    "In the map drawing, the use of plotly related functions and functions to achieve, the data set longitude and latitude coordinates corresponding to the built-in attributes of scatter_mapbox.\n",
    "\n",
    "And when the mouse pointer on the map to the corresponding coordinates, a dialog box will pop up to introduce the current region, including latitude and longitude, the name of the country, the name of the province, and the number of new cases on December 6, 2020.\n"
   ]
  },
  {
   "cell_type": "raw",
   "metadata": {},
   "source": [
    "import plotly.express as px\n",
    "\n",
    "fig = px.scatter_mapbox(data_confirm_global_use1,\n",
    "                        lat=\"Lat\", lon = \"Long\",\n",
    "                        zoom=1,\n",
    "                        hover_data=[\"Country\",\"Province\", \"cases\"],   \n",
    "                        mapbox_style=\"carto-positron\",\n",
    "                        range_color= [0, 100],title='Latest Number of Total Confirmed Cases throughout the World')\n",
    "fig.update_layout(margin={\"r\":0,\"t\":30,\"l\":0,\"b\":0},\n",
    "                 mapbox = {\n",
    "                            \n",
    "                           },)\n",
    "fig.show()"
   ]
  },
  {
   "cell_type": "markdown",
   "metadata": {},
   "source": [
    "###  Latest daily new cases world map on 2020 December 6\n",
    "\n",
    "This map shows the number of new cases in each Country/Provance on 6 December 2020 in terms of geography. \n",
    "\n",
    "Since the data source displays the total number of cases for each day, the output of new cases for a given day requires subtracting the total number of cases for the previous day from the total number of cases for the following day. In this diagram, to show the number of new cases on December 6, subtract the number of new cases on December 5 from the total number of new cases on December 6."
   ]
  },
  {
   "cell_type": "raw",
   "metadata": {},
   "source": [
    "data_confirm_global_use2= pd.read_csv(\"CovidDataConfirmGlobal.csv\", usecols = [0,1,2,3,322,323])\n",
    "cols2 = list(data_confirm_global_use2)\n",
    "cols2.insert(0,cols2.pop(cols2.index('Country/Region')))\n",
    "data_confirm_global_use2 = data_confirm_global_use2.loc[:,cols2]\n",
    "\n",
    "col_name2 = ['Country', 'Province','Lat','Long','cases1','cases2']\n",
    "\n",
    "data_confirm_global_use2.columns =col_name2\n",
    "\n",
    "data_confirm_global_use2[\"cases1\"] = data_confirm_global_use2[\"cases2\"] - data_confirm_global_use2[\"cases1\"]\n",
    "\n",
    "data_confirm_global_use2 = data_confirm_global_use2.drop(['cases2'], axis=1)\n",
    "\n",
    "data_confirm_global_use2 = data_confirm_global_use2.rename(columns={'cases1':'cases'})\n",
    "\n",
    "data_confirm_global_use2['Province'] = data_confirm_global_use2['Province'].fillna('Null')"
   ]
  },
  {
   "cell_type": "markdown",
   "metadata": {},
   "source": [
    "In this global map of new cases on December 6, the map is plotted the same way as the total cases."
   ]
  },
  {
   "cell_type": "raw",
   "metadata": {},
   "source": [
    "fig2 = px.scatter_mapbox(data_confirm_global_use2,\n",
    "                        lat=\"Lat\", lon = \"Long\",\n",
    "                        zoom=1,\n",
    "                        hover_data=[\"Country\",\"Province\", \"cases\"],   \n",
    "                        mapbox_style=\"carto-positron\",\n",
    "                        range_color= [0, 100],title='Latest Number of Confirmed Cases throughout the World')\n",
    "fig2.update_layout(margin={\"r\":0,\"t\":30,\"l\":0,\"b\":0},\n",
    "                 mapbox = {\n",
    "                            \n",
    "                           },)\n",
    "fig2.show()"
   ]
  },
  {
   "cell_type": "markdown",
   "metadata": {},
   "source": [
    "### New Cases on 2020.12.6 comparison of top 50 countries\n",
    "In this comparison chart, all country data and the total number of confirmed cases for each country on 5 and 6 December are extracted. In data cleaning, the total number of new cases on December 6 is obtained by subtracting the number of cases that were diagnosed on December 5 from the number of cases that were diagnosed on December 6.\n",
    "\n",
    "Since some countries are divided into provinces in the data set, there will be repeated country names. Here, the GROUPBY equation of \"country\" is used to group and sum together the data of multiple cases generated by different provinces in the same country.\n",
    "\n",
    "Finally, the number of new cases in all countries was ranked and the top 50 countries were exported."
   ]
  },
  {
   "cell_type": "raw",
   "metadata": {},
   "source": [
    "data_confirm_global_use3 = pd.read_csv('CovidDataConfirmGlobal.csv',usecols = [1,322,323])\n",
    "col_name = ['Country','12/5/20','12/6/20']\n",
    "data_confirm_global_use3.columns =col_name\n",
    "data_confirm_global_compare=data_confirm_global_use3.groupby(['Country'], sort=False,as_index=False).sum()\n",
    "\n",
    "\n",
    "data_confirm_global_compare[\"cases\"] = data_confirm_global_compare[\"12/6/20\"] - data_confirm_global_compare[\"12/5/20\"]\n",
    "data_confirm_global_compare = data_confirm_global_compare.drop(['12/6/20','12/5/20'], axis=1)\n",
    "\n",
    "data_confirm_global_compare = data_confirm_global_compare.sort_values(by='cases',  ascending=True)\n",
    "data_confirm_global_compare = data_confirm_global_compare.tail(50)"
   ]
  },
  {
   "cell_type": "markdown",
   "metadata": {},
   "source": [
    "A comparative histogram of new cases on December 6, 2020 is drawn here. To accommodate more data, the abscissa is set to number of cases and the ordinate is set to country names."
   ]
  },
  {
   "cell_type": "raw",
   "metadata": {},
   "source": [
    "data  = go.Data([\n",
    "            go.Bar(\n",
    "                 x = data_confirm_global_compare.cases,\n",
    "              y = data_confirm_global_compare.Country,\n",
    "             orientation='h'\n",
    "              \n",
    "        )])\n",
    "layout = go.Layout(\n",
    "        height = 1000,\n",
    "    \n",
    "        title = \"Comparsion of new cases on 2020/ 12/ 6\"\n",
    ")\n",
    "fig  = go.Figure(data=data, layout=layout)\n",
    "py.iplot(fig)"
   ]
  },
  {
   "cell_type": "markdown",
   "metadata": {},
   "source": [
    "### The pie chart ‘Top 10 Deaths Pie Chart as of 12/2/2020’ describe the hardest hit countries in 12/2/2020. "
   ]
  },
  {
   "cell_type": "raw",
   "metadata": {},
   "source": [
    "df_sort=df_1.groupby(['Country/Region'],as_index=False, sort=False).sum()\n",
    "df_sort1 = df_sort[['Country/Region', '12/2/20']]"
   ]
  },
  {
   "cell_type": "markdown",
   "metadata": {},
   "source": [
    "Firstly, it does the data cleaning to group all the countries together. The reason why I am doing this is that in the dataset, there a more than one state/province within one country. Therefore, I sum up all the cases within each country to get the total cases for that country. (Using Group by and sum). "
   ]
  },
  {
   "cell_type": "raw",
   "metadata": {},
   "source": [
    "df_a=df_sort1.sort_values(by='12/2/20', ascending=False).head(10)\n",
    "labels = df_a['Country/Region']\n",
    "size = df_a['12/2/20']\n",
    "plt.pie(size,labels=labels,autopct='%.2f')\n",
    "plt.title(\"Top 10 Deaths Pie Chart as of 12/2/2020\")\n",
    "plt.show()"
   ]
  },
  {
   "cell_type": "markdown",
   "metadata": {},
   "source": [
    "Then, select the date and hardiest countries for data visualization. And eventually, draw the pie chart to visualize the outcome. "
   ]
  },
  {
   "cell_type": "markdown",
   "metadata": {},
   "source": [
    "### The bar chart ‘Top 30 Deaths Pie Chart as of 12/2/2020’ describe the hardest hit countries in 12/2/2020. "
   ]
  },
  {
   "cell_type": "raw",
   "metadata": {},
   "source": [
    "f, ax = plt.subplots(figsize=(10, 20))\n",
    "sns.barplot(x=\"12/2/20\", y=\"Country/Region\", data=df_a, orient=\"h\")\n",
    "ax.set(xlabel='Top 30 Deaths as of 12/2/20', ylabel='Country')\n",
    "plt.show()"
   ]
  },
  {
   "cell_type": "markdown",
   "metadata": {},
   "source": [
    "With the similar data cleaning, I draw a bar chart which has the similar meaning as of the previous bar chart. For the bar chart, I selected Top 30 Countries which suffered the most regarding the death cases. "
   ]
  },
  {
   "cell_type": "markdown",
   "metadata": {},
   "source": [
    "### The pie chart ‘Top 10 Confirm Cases Pie Chart as of 12/2/2020’ describe the hardest hit countries in 12/2/2020."
   ]
  },
  {
   "cell_type": "raw",
   "metadata": {},
   "source": [
    "import matplotlib.pyplot as plt\n",
    "labels = result1['Country']\n",
    "size = result1['Confirmed Cases']\n",
    "plt.pie(size,labels=labels,autopct='%.2f')\n",
    "plt.legend()"
   ]
  },
  {
   "cell_type": "markdown",
   "metadata": {},
   "source": [
    "This is similar to the previous pie chart as well, the only difference for this is selecting confirmed cases from different dataset. What’s more, the bar chart for the confirm cases select the top 30 confirmed cases for the 12/2/2020."
   ]
  },
  {
   "cell_type": "markdown",
   "metadata": {},
   "source": [
    "### LinePlot of Percentage of Death Rate"
   ]
  },
  {
   "cell_type": "raw",
   "metadata": {},
   "source": [
    "df_death = pd.read_csv('CovidDataDeathGlobal.csv')\n",
    "df_confirm = pd.read_csv('CovidDataConfirmGlobal.csv')\n",
    "df_death_1 = df_death.drop(['Province/State', 'Lat','Long'], axis=1)\n",
    "df_confirm_1 = df_confirm.drop(['Province/State', 'Lat','Long'], axis=1)\n",
    "df_2=df_death_1.groupby(['Country/Region'], sort=False).sum()\n",
    "df_3=df_confirm_1.groupby(['Country/Region'], sort=False).sum()\n",
    "death_rate = df_2 / df_3\n",
    "Death_rate = death_rate.fillna(0)"
   ]
  },
  {
   "cell_type": "markdown",
   "metadata": {},
   "source": [
    "To get the death rate of some country, we need to do some data processing on both total death and total confirm. The death rate is equal to total deaths / total confirm. Afterwards, select some random countries to display for the death rate and the result is shown in Figure ‘Percentage of Death Rate‘"
   ]
  },
  {
   "cell_type": "markdown",
   "metadata": {},
   "source": [
    "### LinePlot of Infection Rate"
   ]
  },
  {
   "cell_type": "raw",
   "metadata": {},
   "source": [
    "fig, ax = plt.subplots()\n",
    "fig.set_size_inches(18.5, 10.5)\n",
    "sns.lineplot(data=recover1)\n",
    "ax.set(xlabel='Date', ylabel='Recovery Rate')\n",
    "plt.show()"
   ]
  },
  {
   "cell_type": "markdown",
   "metadata": {},
   "source": [
    "The method used for this graph is similar to 'Percentage of Death' grapgh, as you have to calculate the total number of confirmed cases and recover cases and then, use the recover / confirm to return the recover rate."
   ]
  },
  {
   "cell_type": "markdown",
   "metadata": {},
   "source": [
    "## Figure Prediction: Using Linear Regression to predict the confirm number\n",
    "\n",
    "First, data is preprocessed. days_since_1_22 records the days since January 22th. And world_cases represent the total confirm cases everyday since January 22th."
   ]
  },
  {
   "cell_type": "raw",
   "metadata": {},
   "source": [
    "days_since_1_22 = np.array([i for i in range(len(dates))]).reshape(-1, 1)\n",
    "world_cases = np.array(world_cases).reshape(-1, 1)"
   ]
  },
  {
   "cell_type": "markdown",
   "metadata": {},
   "source": [
    "Train_test_split is applied to split arrays into random train and test subsets. First parameter is the array to be split, test_size value is between 0.0 and 1.0, which represent the proportion of the data set to include in the test split.Shuffle determines whether or not shuffle the data before splitting."
   ]
  },
  {
   "cell_type": "raw",
   "metadata": {},
   "source": [
    "X_train_confirmed, X_test_confirmed, y_train_confirmed, y_test_confirmed = train_test_split(days_since_1_22, world_cases, test_size=0.15, shuffle=False)"
   ]
  },
  {
   "cell_type": "markdown",
   "metadata": {},
   "source": [
    " In regression step, whether or not enable normalize and fir_intercept is determined and then calculate both the model coefficient and intercept to fit the model. Check both mean_absolute_error and mean_squared_error t see whether the difference between the prediction confirm and test confirm is large or not."
   ]
  },
  {
   "cell_type": "raw",
   "metadata": {},
   "source": [
    "linear_model = LinearRegression(normalize=True, fit_intercept=True)\n",
    "linear_model.fit(X_train_confirmed, y_train_confirmed)\n",
    "test_linear_pred = linear_model.predict(X_test_confirmed)\n",
    "linear_pred = linear_model.predict(future_forcast)\n",
    "print('MAE:', mean_absolute_error(test_linear_pred, y_test_confirmed))\n",
    "print('MSE:',mean_squared_error(test_linear_pred, y_test_confirmed))"
   ]
  },
  {
   "cell_type": "markdown",
   "metadata": {},
   "source": [
    "Output the coefficient and intercept"
   ]
  },
  {
   "cell_type": "raw",
   "metadata": {},
   "source": [
    "print(linear_model.coef_)\n",
    "print(linear_model.intercept_)"
   ]
  },
  {
   "cell_type": "markdown",
   "metadata": {},
   "source": [
    "Define bayesian_grid at first"
   ]
  },
  {
   "cell_type": "raw",
   "metadata": {},
   "source": [
    "tol = [1e-4, 1e-3, 1e-2]\n",
    "alpha_1 = [1e-7, 1e-6, 1e-5, 1e-4]\n",
    "alpha_2 = [1e-7, 1e-6, 1e-5, 1e-4]\n",
    "lambda_1 = [1e-7, 1e-6, 1e-5, 1e-4]\n",
    "lambda_2 = [1e-7, 1e-6, 1e-5, 1e-4]"
   ]
  },
  {
   "cell_type": "markdown",
   "metadata": {},
   "source": [
    "  Then fit the model by optimizing the parameters in bayesian grid so that the loss function value can be minimized. Set iteration equals to 40 and train the model."
   ]
  },
  {
   "cell_type": "raw",
   "metadata": {},
   "source": [
    "bayesian = BayesianRidge()\n",
    "bayesian_search = RandomizedSearchCV(bayesian, bayesian_grid, scoring='neg_mean_squared_error', cv=3, return_train_score=True, n_jobs=-1, n_iter=40, verbose=1)\n",
    "bayesian_search.fit(X_train_confirmed, y_train_confirmed)"
   ]
  },
  {
   "cell_type": "markdown",
   "metadata": {},
   "source": [
    " Best parameters are shown"
   ]
  },
  {
   "cell_type": "raw",
   "metadata": {},
   "source": [
    "bayesian_search.best_params_"
   ]
  },
  {
   "cell_type": "markdown",
   "metadata": {},
   "source": [
    "  Future forcast represents the dates while the linear_pred represents the prediction confirm number using Linear regression"
   ]
  },
  {
   "cell_type": "raw",
   "metadata": {},
   "source": [
    "plt.figure(figsize=(20, 12))\n",
    "plt.plot(adjusted_dates, world_cases)\n",
    "plt.plot(future_forcast, linear_pred, linestyle='dashed', color='orange')\n",
    "plt.title('Prediction confirm of Coronavirus Cases Over Time', size=30)\n",
    "plt.xlabel('Days Since 1/22/2020', size=30)\n",
    "plt.ylabel(' Prediction Confirm of Cases', size=30)\n",
    "plt.legend(['Confirmed Cases', 'Linear Regression Predictions'])\n",
    "plt.xticks(size=15)\n",
    "plt.show()"
   ]
  },
  {
   "cell_type": "markdown",
   "metadata": {},
   "source": [
    "\n",
    "Future forcast represents the dates while the bayesian_pred represents the prediction confirm number using the Bayesian Ridge"
   ]
  },
  {
   "cell_type": "raw",
   "metadata": {},
   "source": [
    "plt.figure(figsize=(20, 12))\n",
    "plt.plot(adjusted_dates, world_cases)\n",
    "plt.plot(future_forcast, bayesian_pred, linestyle='dashed', color='green')\n",
    "plt.title('Prediction confirm of Coronavirus Cases Over Time', size=30)\n",
    "plt.xlabel('Time', size=30)\n",
    "plt.ylabel('Prediction Confirm of Cases', size=30)\n",
    "plt.legend(['Confirmed Cases', 'Bayesian Ridge Regression Predictions'])\n",
    "plt.xticks(size=15)\n",
    "plt.show()"
   ]
  },
  {
   "cell_type": "code",
   "execution_count": null,
   "metadata": {},
   "outputs": [],
   "source": []
  }
 ],
 "metadata": {
  "kernelspec": {
   "display_name": "Python 3",
   "language": "python",
   "name": "python3"
  },
  "language_info": {
   "codemirror_mode": {
    "name": "ipython",
    "version": 3
   },
   "file_extension": ".py",
   "mimetype": "text/x-python",
   "name": "python",
   "nbconvert_exporter": "python",
   "pygments_lexer": "ipython3",
   "version": "3.8.3"
  }
 },
 "nbformat": 4,
 "nbformat_minor": 4
}
